{
 "cells": [
  {
   "cell_type": "markdown",
   "id": "4f2e3179-b4ae-4243-92eb-ed8d86df7c10",
   "metadata": {
    "user_expressions": []
   },
   "source": [
    "## Project No1 - The Mind\n",
    "\n",
    "Refer to the `README.md` for further information about how to play the game and the objectives for this first project. \n",
    "\n",
    "When writing code, we recommend you to be as modular as possible. For example, if you are running multiple experiments for different choices of parameters, it may be convenient to write a function that does one experiment and then make multiple calls to the same function. Follow the _do not repeat yourself_ rule when writing code! "
   ]
  },
  {
   "cell_type": "code",
   "execution_count": 1,
   "id": "130e891e-23be-4df7-8209-9c95c8ec6852",
   "metadata": {},
   "outputs": [],
   "source": [
    "import numpy as np\n",
    "import matplotlib.pyplot as plt"
   ]
  },
  {
   "cell_type": "markdown",
   "id": "d44bf2d2-6100-47ca-a6d3-55911388bc7e",
   "metadata": {
    "user_expressions": []
   },
   "source": [
    "Let's start by creating a function that generates one sample of the game. Feel free to change this code as you find it suitable, for example by changing how the sampling is created or if you want to sample cards with replacement (this could be useful for the last questions)."
   ]
  },
  {
   "cell_type": "code",
   "execution_count": 2,
   "id": "e4c2b253-1621-459a-ba5a-a76d6f46a64b",
   "metadata": {},
   "outputs": [],
   "source": [
    "def sample_cards(N, n, k):\n",
    "    \"\"\"\n",
    "    Generates a simulated sample of how the cards are shuffled among players. \n",
    "    \n",
    "    Arguments: \n",
    "        - N : Total number of cards\n",
    "        - n : Number of players\n",
    "        - k : Number of cards per player\n",
    "        \n",
    "    Returns: \n",
    "        - 2D numpy array where each row represent each player and each column their card in ascending order. \n",
    "    \"\"\"\n",
    "    \n",
    "    assert n * k <= N, \"There are not enough cards for all the players!\"\n",
    "    #np.random.seed(5)\n",
    "    _cards = np.random.choice(a=np.arange(1, N+1), size=n*k, replace=False)\n",
    "    _cards = _cards.reshape(n,k)\n",
    "    _cards.sort(axis=1)\n",
    "    return _cards"
   ]
  },
  {
   "cell_type": "markdown",
   "id": "efee53b7-0463-4c51-b106-e5d26fdc5a7e",
   "metadata": {
    "user_expressions": []
   },
   "source": [
    "Now we can just generate how cards are distributed among players by simply making a call to this function with the desired parameters. "
   ]
  },
  {
   "cell_type": "code",
   "execution_count": 3,
   "id": "1331d9b0-e485-4417-8c7d-4ce407c6e693",
   "metadata": {},
   "outputs": [
    {
     "data": {
      "text/plain": [
       "array([[ 3, 31, 99],\n",
       "       [15, 28, 57],\n",
       "       [ 1, 19, 84],\n",
       "       [32, 74, 87],\n",
       "       [ 6, 43, 93],\n",
       "       [22, 60, 83]])"
      ]
     },
     "execution_count": 3,
     "metadata": {},
     "output_type": "execute_result"
    }
   ],
   "source": [
    "cards = sample_cards(100, 6, 3)\n",
    "cards"
   ]
  },
  {
   "cell_type": "markdown",
   "id": "2f7cfb3b-b3bc-4064-92a4-35e96df2847d",
   "metadata": {
    "user_expressions": []
   },
   "source": [
    "and access the cards of each player with "
   ]
  },
  {
   "cell_type": "code",
   "execution_count": 4,
   "id": "36f4998e-61e0-4acd-b292-b447a0d6a8ed",
   "metadata": {},
   "outputs": [
    {
     "data": {
      "text/plain": [
       "(array([ 3, 31, 99]), array([15, 28, 57]))"
      ]
     },
     "execution_count": 4,
     "metadata": {},
     "output_type": "execute_result"
    }
   ],
   "source": [
    "player0 = cards[0,:]\n",
    "player1 = cards[1,:]\n",
    "player0, player1"
   ]
  },
  {
   "cell_type": "markdown",
   "id": "08d9de1a-3dc6-49ba-b08c-dba034839906",
   "metadata": {
    "user_expressions": []
   },
   "source": [
    "The lowest card in the game is"
   ]
  },
  {
   "cell_type": "code",
   "execution_count": 5,
   "id": "f2e54641-0ec3-4451-b8b3-371580ede9b7",
   "metadata": {},
   "outputs": [
    {
     "data": {
      "text/plain": [
       "1"
      ]
     },
     "execution_count": 5,
     "metadata": {},
     "output_type": "execute_result"
    }
   ],
   "source": [
    "np.min(cards)"
   ]
  },
  {
   "cell_type": "code",
   "execution_count": 6,
   "id": "2f4766c6-7334-4d24-a0b5-20e5bfd44a63",
   "metadata": {},
   "outputs": [
    {
     "data": {
      "text/plain": [
       "array([1, 2, 3, 4])"
      ]
     },
     "execution_count": 6,
     "metadata": {},
     "output_type": "execute_result"
    }
   ],
   "source": [
    "np.arange(1, 5)"
   ]
  },
  {
   "cell_type": "markdown",
   "id": "2311b627-2030-4641-a3ea-b1e7aa3e31b5",
   "metadata": {
    "user_expressions": []
   },
   "source": [
    "### 1. What is the distribution of the lowest number? \n",
    "\n",
    "Repeat the sampling of the cards multiple times for the same choice of `N`, `n` and `k` and plot the distribution of the lowest number in the sample. Use an [histogram](https://matplotlib.org/stable/api/_as_gen/matplotlib.pyplot.hist.html) to plot the distribution and set the bins to be the available integer number cards. "
   ]
  },
  {
   "cell_type": "code",
   "execution_count": 7,
   "id": "32774a30-1a97-4185-9863-ef2f8bc5c400",
   "metadata": {},
   "outputs": [
    {
     "data": {
      "image/png": "[encoded data removed]",
      "text/plain": [
       "<Figure size 640x480 with 1 Axes>"
      ]
     },
     "metadata": {},
     "output_type": "display_data"
    }
   ],
   "source": [
    "#### To Do cell\n",
    "N = 100\n",
    "n = 6\n",
    "k = 3\n",
    "number_time = 1000\n",
    "def plot_histogram(number_time,cards,N,n,k):\n",
    "    min_value = []\n",
    "    for i in range(number_time):\n",
    "        cards = sample_cards(N,n,k)\n",
    "        min_value.append(np.min(cards))\n",
    "    return min_value\n",
    "plot = plot_histogram(number_time,cards,N,n,k)\n",
    "plt.hist(plot,bins = 100)\n",
    "plt.show()"
   ]
  },
  {
   "cell_type": "markdown",
   "id": "b9b63c3c-5cd0-4090-910b-06ded98c5497",
   "metadata": {
    "user_expressions": []
   },
   "source": [
    "### 2. What is the distribution of the largest gap?\n",
    "\n",
    "For each simulation, found the largest distance between consecutive numbers in the game. To make this easy, let us first consider the largest gap among the pool of **all** the cards among players (if the largest gap is happening in the hand of one single player, that is ok). This will make the analysis more simple. "
   ]
  },
  {
   "cell_type": "code",
   "execution_count": 8,
   "id": "8bab549f-1b57-4346-9a9a-c9a5a1ecd1da",
   "metadata": {},
   "outputs": [],
   "source": [
    "N_new = 100\n",
    "n_new = 6\n",
    "k_new = 3"
   ]
  },
  {
   "cell_type": "code",
   "execution_count": 9,
   "id": "96095727-fa79-4b25-a2d9-900302fd5f5b",
   "metadata": {},
   "outputs": [],
   "source": [
    "# To Do cell\n",
    "def largest_distance(N,n,k):\n",
    "    max_diff = []\n",
    "    cards = sample_cards(N,n,k)\n",
    "    sort_flatten_cards = np.sort(cards.flatten())\n",
    "    return(np.max(np.diff(sort_flatten_cards)))"
   ]
  },
  {
   "cell_type": "code",
   "execution_count": 10,
   "id": "23568434-9d89-4cbb-b961-51bb334790ae",
   "metadata": {},
   "outputs": [
    {
     "data": {
      "image/png": "[encoded data removed]",
      "text/plain": [
       "<Figure size 640x480 with 1 Axes>"
      ]
     },
     "metadata": {},
     "output_type": "display_data"
    }
   ],
   "source": [
    "number_time = 1000\n",
    "value = []\n",
    "for i in range(number_time):\n",
    "    value.append(largest_distance(N_new,n_new,k_new))\n",
    "plt.hist(value,bins = N)\n",
    "plt.show()"
   ]
  },
  {
   "cell_type": "markdown",
   "id": "6c0d3228-b157-4b86-a28a-1e5dc629a17c",
   "metadata": {
    "user_expressions": []
   },
   "source": [
    "Repeat the experiment but know compute the largest gap between cards of different players. This is the gap that actually matters for the purposes of the game: what is the maximum number of numbers that a player will have to wait before playing the next card?"
   ]
  },
  {
   "cell_type": "code",
   "execution_count": 11,
   "id": "ddf75d64-b954-4155-b957-9a6e49fb5723",
   "metadata": {},
   "outputs": [],
   "source": [
    "# To Do cell\n",
    "def largest_distance_players(N,n,k):\n",
    "    cards = sample_cards(N,n,k)\n",
    "    sort_flatten_cards = np.sort(cards.flatten())\n",
    "    difference = np.diff(sort_flatten_cards)\n",
    "    index = np.where(np.max(difference) == difference)\n",
    "    first_num = []\n",
    "    second_num = []\n",
    "    for i in index[0]:\n",
    "        first_num.append(sort_flatten_cards[i+1])\n",
    "        second_num.append(sort_flatten_cards[i])\n",
    "    condition = []\n",
    "    for j in range(len(first_num)):\n",
    "        condition.append(np.where(first_num[j] == cards)[0][0] == np.where(second_num[j] == cards)[0][0])\n",
    "    if(all(item == True for item in condition)):\n",
    "        difference = np.delete(difference,index)\n",
    "        return(np.max(difference))\n",
    "    else:\n",
    "        return(np.max(difference))"
   ]
  },
  {
   "cell_type": "code",
   "execution_count": 12,
   "id": "6c49bfb1-59a3-49ed-b144-d76876fb03bb",
   "metadata": {},
   "outputs": [
    {
     "data": {
      "image/png": "[encoded data removed]",
      "text/plain": [
       "<Figure size 640x480 with 1 Axes>"
      ]
     },
     "metadata": {},
     "output_type": "display_data"
    }
   ],
   "source": [
    "number_time = 1000\n",
    "value = []\n",
    "for i in range(number_time):\n",
    "    value.append(largest_distance(N_new,n_new,k_new))\n",
    "plt.hist(value,bins = N,label = \"First\")\n",
    "plt.legend()\n",
    "value_1 = []\n",
    "for i in range(number_time):\n",
    "    value_1.append(largest_distance_players(N_new,n_new,k_new))\n",
    "plt.hist(value_1,bins = N,label = \"Second\")\n",
    "plt.legend()\n",
    "plt.show()"
   ]
  },
  {
   "cell_type": "markdown",
   "id": "d16b0bb5-9d21-4b46-99ec-15b385e5214a",
   "metadata": {
    "user_expressions": []
   },
   "source": [
    "How does these compare? Run simulations for different choices of the number of cards and players and see when the difference between these two is larger. \n",
    "\n",
    "Compute the mean of the two distributions. When this difference is larger? How does this depends of the total number of players `n`?"
   ]
  },
  {
   "cell_type": "code",
   "execution_count": 13,
   "id": "334b2ade-fa30-48d4-b74f-be8553be7212",
   "metadata": {},
   "outputs": [
    {
     "name": "stdout",
     "output_type": "stream",
     "text": [
      "The mean of the first distribution is : 17.067\n",
      "The mean of the second distribution is : 16.363\n",
      "The difference between the mean is : 0.7040000000000006\n"
     ]
    }
   ],
   "source": [
    "# To Do cell\n",
    "mean_first = np.mean(value)\n",
    "mean_second = np.mean(value_1)\n",
    "print(f\"The mean of the first distribution is : {mean_first}\")\n",
    "print(f\"The mean of the second distribution is : {mean_second}\")\n",
    "print(f\"The difference between the mean is : {np.abs(mean_first - mean_second)}\")"
   ]
  },
  {
   "cell_type": "markdown",
   "id": "c14b7f5b-23b7-4a73-b67b-8d4433fae9e2",
   "metadata": {
    "user_expressions": []
   },
   "source": [
    "### 3. Deriving distributions\n",
    "\n",
    "For this section, we are going to use the random sampling generating process from _The Mind_ to investigate and find some familiar distributions."
   ]
  },
  {
   "cell_type": "markdown",
   "id": "366396c5-7a5f-461c-a86e-0a5b528e3791",
   "metadata": {
    "user_expressions": []
   },
   "source": [
    "### 3.1. Binomial Distribution \n",
    "\n",
    "Can you think about any way of deriving the binomial distribution? Based on the output of one single game (function `sample_game()`), try to derive something that has Binomial distribution for certain parameter $p$. Run multiple simulations to see this and compare the obtained empirical distribution with the distribution of the binomial distribution (check `numpy.random.binomial` and `scipy.stats.binom`). "
   ]
  },
  {
   "cell_type": "code",
   "execution_count": 43,
   "id": "a19d60be-1254-4b20-a2a6-bfbca103f41c",
   "metadata": {},
   "outputs": [],
   "source": [
    "# To Do cell\n",
    "#some feature\n",
    "def bernoulli_trial(card_of_interest = 50):\n",
    "    cards = sample_cards(N,n,k)\n",
    "    if card_of_interest in cards:\n",
    "        return 1\n",
    "    else:\n",
    "        return 0\n",
    "\n",
    "def binomial(number_trial):\n",
    "    successes = 0\n",
    "    for x in range(number_trial):\n",
    "        successes += bernoulli_trial()\n",
    "    return successes\n",
    "\n",
    "def simulate_and_plot(num_simulations, number_trial):\n",
    "    results = []\n",
    "    for y in range(num_simulations):\n",
    "        results.append(binomial(number_trial))\n",
    "    return results\n",
    "\n",
    "number_trial = 100\n",
    "num_simulations = 1000\n",
    "x = simulate_and_plot(num_simulations,number_trial)"
   ]
  },
  {
   "cell_type": "code",
   "execution_count": 44,
   "id": "b40a552a",
   "metadata": {},
   "outputs": [
    {
     "data": {
      "image/png": "[encoded data removed]",
      "text/plain": [
       "<Figure size 640x480 with 1 Axes>"
      ]
     },
     "metadata": {},
     "output_type": "display_data"
    }
   ],
   "source": [
    "from scipy.stats import binom\n",
    "p = (n*k)/N\n",
    "x_theoretical = np.arange(np.min(x), np.max(x))\n",
    "y_theoretical = binom.pmf(x_theoretical, number_trial, p)\n",
    "plt.plot(x_theoretical, y_theoretical, 'o-', label='Theoretical')\n",
    "plt.hist(x,density= True)\n",
    "plt.show()"
   ]
  },
  {
   "cell_type": "markdown",
   "id": "4fd361e5-2c9c-4c78-9987-d73833be1f19",
   "metadata": {
    "tags": [],
    "user_expressions": []
   },
   "source": [
    "### 3.2. Beta Distribution\n",
    "\n",
    "The [order statistics](https://en.wikipedia.org/wiki/Order_statistic) of the uniform distribution are such that follow a Beta distribution. If well here we are not exactly sampling real numbers in $[0,1]$ following the uniform distribution, you can imagine that sampling one single number without repetition from $\\{ 1, 2, 3, \\ldots, N \\}$ is not very different...\n",
    "\n",
    "Compare the distribution of the lowest number in the sample (Part 1) with a [Beta distribution](https://en.wikipedia.org/wiki/Beta_distribution) with adequate choices of parameters. In order to do this, notice that the $k$th order statistics of a sample of $n$ uniformly distributed points in $[0,1]$ is $\\text{Beta}(k, n+1-k)$ (These $n$ and $k$ are not the same as before, you need to pick the right values of these)."
   ]
  },
  {
   "cell_type": "code",
   "execution_count": 45,
   "id": "a323b0ca-7bf6-48c1-a9f1-b87bc08d080c",
   "metadata": {},
   "outputs": [],
   "source": [
    "# To Do cell\n",
    "def k_order_statistics(new_k,new_n):\n",
    "    k_order_statistics = []\n",
    "    for i in range(new_n):\n",
    "        cards = sample_cards(N,n,k)\n",
    "        k_order_statistics.append(np.sort(cards.flatten())[new_k])\n",
    "    return k_order_statistics\n",
    "x = k_order_statistics(0,1000)\n",
    "#plt.hist(x,bins = 100)\n",
    "#plt.show()"
   ]
  },
  {
   "cell_type": "code",
   "execution_count": 46,
   "id": "58e8aca2-8b8c-4feb-acb6-796126ec96ca",
   "metadata": {},
   "outputs": [],
   "source": [
    "from scipy.stats import beta"
   ]
  },
  {
   "cell_type": "code",
   "execution_count": 47,
   "id": "fb4380a4-7d10-4985-b965-5f3609018be5",
   "metadata": {},
   "outputs": [
    {
     "data": {
      "image/png": "[encoded data removed]",
      "text/plain": [
       "<Figure size 640x480 with 1 Axes>"
      ]
     },
     "metadata": {},
     "output_type": "display_data"
    }
   ],
   "source": [
    "a = 1\n",
    "b = n*k\n",
    "x = np.linspace(beta.ppf(0.01, a, b),beta.ppf(0.99, a, b), 100)\n",
    "plot = plot_histogram(number_time,cards,N,n,k)\n",
    "plt.plot(x*100,beta.pdf(x,a,b)/36.5)\n",
    "plt.hist(plot,bins = 100,density = True)\n",
    "plt.show()"
   ]
  },
  {
   "cell_type": "markdown",
   "id": "5bc7456e-e4f1-48af-92ef-cbe4177f9871",
   "metadata": {
    "user_expressions": []
   },
   "source": [
    "### 3.3. Exponential Distribution\n",
    "\n",
    "If we call $U_1$ the minimum number in the sample (Part 1), then make an histogram with the distribution of the transformed random variable given by \n",
    "$$\n",
    "X = - \\ln \\left( 1 - \\frac{U_1}{N} \\right)\n",
    "$$\n",
    "and compare this with the distribution of an exponential random variable with parameter $nk$, the total number of cards in the game. "
   ]
  },
  {
   "cell_type": "code",
   "execution_count": null,
   "id": "4ca2600b-46ef-4df5-8174-5d8291209213",
   "metadata": {},
   "outputs": [
    {
     "data": {
      "image/png": "[encoded data removed]",
      "text/plain": [
       "<Figure size 640x480 with 1 Axes>"
      ]
     },
     "metadata": {},
     "output_type": "display_data"
    }
   ],
   "source": [
    "plot = plot_histogram(number_time,cards,N,n,k)\n",
    "X = -np.log([1- U_1/N for U_1 in plot])\n",
    "plt.hist(X,density = True,bins = 10)\n",
    "x = np.linspace(0.01,0.4,100)\n",
    "lambda_param = n*k  \n",
    "pdf_values = lambda_param * np.exp(-lambda_param * x)\n",
    "plt.plot(x, pdf_values)\n",
    "#exponential = np.random.exponential(n*k,size = len(X))\n",
    "#print(len(exponential))\n",
    "#plt.hist(exponential)\n",
    "plt.show()"
   ]
  },
  {
   "cell_type": "markdown",
   "id": "0ad19b6e-5603-4b66-b379-6b79f5aaedf6",
   "metadata": {
    "user_expressions": []
   },
   "source": [
    "### 4. What happens when $n * k << N$?\n",
    "\n",
    "Some of the distribution we saw in previous sections are just approximate. Study what happens when we increase the number of cards. Try to understand how the cases of sampling with and without reposition compare as $n * k << N$. What do you expect to see in these cases? When the difference between the two sampling strategies will lead to similar or different results. "
   ]
  },
  {
   "cell_type": "code",
   "execution_count": null,
   "id": "75c36837-ce27-4cfa-b512-0bba6e7d99fc",
   "metadata": {},
   "outputs": [],
   "source": [
    "N = 450\n",
    "n = 6\n",
    "k = 3"
   ]
  },
  {
   "cell_type": "code",
   "execution_count": null,
   "id": "bad3cabc-f8bc-482e-ac6c-1d684dce5eed",
   "metadata": {},
   "outputs": [],
   "source": [
    "# To Do cell\n",
    "def sample_cards_replace(N, n, k):\n",
    "    \"\"\"\n",
    "    Generates a simulated sample of how the cards are shuffled among players. \n",
    "    \n",
    "    Arguments: \n",
    "        - N : Total number of cards\n",
    "        - n : Number of players\n",
    "        - k : Number of cards per player\n",
    "        \n",
    "    Returns: \n",
    "        - 2D numpy array where each row represent each player and each column their card in ascending order. \n",
    "    \"\"\"\n",
    "    \n",
    "    assert n * k <= N, \"There are not enough cards for all the players!\"\n",
    "    #np.random.seed(5)\n",
    "    _cards = np.random.choice(a=np.arange(1, N+1), size=n*k, replace=True)\n",
    "    _cards = _cards.reshape(n,k)\n",
    "    _cards.sort(axis=1)\n",
    "    return _cards"
   ]
  },
  {
   "cell_type": "code",
   "execution_count": null,
   "id": "2e22b178-8b9a-4ca9-83af-4031a15170d4",
   "metadata": {},
   "outputs": [],
   "source": [
    "# To Do cell\n",
    "def k_order_statistics_replace(new_k,new_n):\n",
    "    k_order_statistics = []\n",
    "    for i in range(new_n):\n",
    "        cards = sample_cards_replace(N,n,k)\n",
    "        k_order_statistics.append(np.sort(cards.flatten())[new_k])\n",
    "    return k_order_statistics"
   ]
  },
  {
   "cell_type": "code",
   "execution_count": null,
   "id": "3248888a-049f-4558-8b63-aac6e0cf363e",
   "metadata": {},
   "outputs": [],
   "source": [
    "x = k_order_statistics(0,1000)\n",
    "plt.hist(x,bins = N)\n",
    "plt.show()\n",
    "x_replace = k_order_statistics_replace(0,1000)\n",
    "plt.hist(x_replace,bins = N)\n",
    "plt.show()"
   ]
  },
  {
   "cell_type": "code",
   "execution_count": null,
   "id": "ae425187-d02a-4f0d-9723-0f7b76aa0eb2",
   "metadata": {},
   "outputs": [],
   "source": [
    "def plot_histogram_replace(number_time,cards,N,n,k):\n",
    "    min_value = []\n",
    "    for i in range(number_time):\n",
    "        cards = sample_cards_replace(N,n,k)\n",
    "        min_value.append(np.min(cards))\n",
    "    return min_value"
   ]
  },
  {
   "cell_type": "code",
   "execution_count": null,
   "id": "ecddf101-e51a-426a-a0b2-24898886c273",
   "metadata": {},
   "outputs": [],
   "source": [
    "plot = plot_histogram(number_time,cards,N,n,k)\n",
    "X = -np.log([1- U_1/N for U_1 in plot])\n",
    "plt.hist(X)\n",
    "plt.show()\n",
    "plot_1 = plot_histogram(number_time,cards,N,n,k)\n",
    "X_replace = -np.log([1- U_1/N for U_1 in plot_1])\n",
    "plt.hist(X_replace)\n",
    "plt.show()"
   ]
  },
  {
   "cell_type": "markdown",
   "id": "d944ef54-38c2-46dc-a74f-2383625f9021",
   "metadata": {
    "user_expressions": []
   },
   "source": [
    "### Contribution statement\n",
    "\n",
    "Please include a list of the students you work with along this project (including yourself). Include both names and GitHub usernames of the people you collaborated with. Maximum of three persons per group. \n",
    "- Member No1: \n",
    "- Member No2: \n",
    "- Member No3:"
   ]
  }
 ],
 "metadata": {
  "kernelspec": {
   "display_name": "Python 3 (ipykernel)",
   "language": "python",
   "name": "python3"
  },
  "language_info": {
   "codemirror_mode": {
    "name": "ipython",
    "version": 3
   },
   "file_extension": ".py",
   "mimetype": "text/x-python",
   "name": "python",
   "nbconvert_exporter": "python",
   "pygments_lexer": "ipython3",
   "version": "3.11.4"
  }
 },
 "nbformat": 4,
 "nbformat_minor": 5
}
